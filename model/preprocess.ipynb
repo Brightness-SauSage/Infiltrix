{
 "cells": [
  {
   "cell_type": "code",
   "execution_count": null,
   "metadata": {},
   "outputs": [],
   "source": [
    "import pandas as pd\n",
    "import string\n",
    "from sklearn.preprocessing import LabelEncoder"
   ]
  },
  {
   "cell_type": "code",
   "execution_count": null,
   "metadata": {},
   "outputs": [],
   "source": [
    "df = pd.read_csv()\n",
    "\n",
    "df[\"TEXT\"] = df[\"TEXT\"].astype(str)\n",
    "\n",
    "def remove_punctuations(text):\n",
    "    for char in string.punctuation:\n",
    "        text = text.replace(char, '')\n",
    "    return text\n",
    "\n",
    "df['TEXT'] = df['TEXT'].apply(remove_punctuations) \n",
    "df['TEXT'] = df['TEXT'].str.lower()\n",
    "df['LABEL'] = df['LABEL'].str.lower()"
   ]
  },
  {
   "cell_type": "code",
   "execution_count": null,
   "metadata": {},
   "outputs": [],
   "source": [
    "import re\n",
    "\n",
    "def detect_url(input_str):\n",
    "    url_pattern = re.compile(r'https?://\\S+|www\\.\\S+|bit\\.ly/\\S+')\n",
    "    return bool(re.search(url_pattern, input_str))\n",
    "\n",
    "def detect_email(input_str):\n",
    "    email_pattern = re.compile(r'\\b[A-Za-z0-9._%+-]+@[A-Za-z0-9.-]+\\.[A-Z|a-z]{2,}\\b')\n",
    "    return bool(re.search(email_pattern, input_str))\n",
    "\n",
    "def detect_phone(input_str):\n",
    "    phone_pattern = re.compile(r'\\b\\d{3}[-.\\s]?\\d{3}[-.\\s]?\\d{4}\\b')\n",
    "    return bool(re.search(phone_pattern, input_str))"
   ]
  },
  {
   "cell_type": "code",
   "execution_count": null,
   "metadata": {},
   "outputs": [],
   "source": [
    "import nltk\n",
    "from nltk.tokenize import word_tokenize\n",
    "nltk.download('punkt')\n",
    "from nltk.stem import WordNetLemmatizer\n",
    "nltk.download('wordnet')\n",
    "nltk.download('averaged_perceptron_tagger')\n",
    "\n",
    "df['TEXT TOKEN'] = df['TEXT'].apply(word_tokenize)\n",
    "lemmatizer = WordNetLemmatizer()\n",
    "df['Text Lemmatize'] = df['TEXT TOKEN'].apply(lambda tokens: [lemmatizer.lemmatize(token) for token in tokens])\n",
    "df['TEXT'] = df['Text Lemmatize'].apply(lambda token: ' '.join(token) )\n",
    "df.drop(['TEXT TOKEN','Text Lemmatize'],axis=1,inplace=True)\n",
    "df.to_csv('pre_output.csv', index=False)"
   ]
  }
 ],
 "metadata": {
  "language_info": {
   "name": "python"
  }
 },
 "nbformat": 4,
 "nbformat_minor": 2
}
